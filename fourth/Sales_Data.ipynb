{
 "cells": [
  {
   "cell_type": "code",
   "execution_count": null,
   "metadata": {},
   "outputs": [],
   "source": [
    "import pandas as pd\n",
    "import numpy as np\n",
    "import matplotlib.pyplot as plt \n",
    "import seaborn as sns\n",
    "from sklearn.preprocessing import MinMaxScaler, StandardScaler\n",
    "from sklearn.model_selection import train_test_split"
   ]
  },
  {
   "cell_type": "code",
   "execution_count": null,
   "metadata": {},
   "outputs": [],
   "source": [
    "#1.Data Exploration (EDA)\n",
    "#Load the dataset and display the first few rows.\n",
    "df = pd.read_csv('sales_data.csv')\n",
    "print(df.head())"
   ]
  },
  {
   "cell_type": "code",
   "execution_count": null,
   "metadata": {},
   "outputs": [],
   "source": [
    "#Get summary statistics (mean, median, standard deviation)\n",
    "summary_stats = df.describe()\n",
    "median_values = df.median(numeric_only=True)\n",
    "print(\"Summary Statistics:\\n\", summary_stats)\n",
    "print(\"\\nMedian Values:\\n\", median_values)"
   ]
  },
  {
   "cell_type": "code",
   "execution_count": null,
   "metadata": {},
   "outputs": [],
   "source": [
    "#Identify and handle outliers.\n",
    "numerical_cols = df.select_dtypes(include=[np.number])\n",
    "\n",
    "Q1 = numerical_cols.quantile(0.25)\n",
    "Q3 = numerical_cols.quantile(0.75)\n",
    "IQR = Q3 - Q1\n",
    "\n",
    "outliers = ((numerical_cols < (Q1 - 1.5 * IQR)) | (numerical_cols > (Q3 + 1.5 * IQR))).sum()\n",
    "print(\"\\nOutliers:\\n\", outliers)\n",
    "\n",
    "df = df[~((numerical_cols < (Q1 - 1.5 * IQR)) | (numerical_cols > (Q3 + 1.5 * IQR))).any(axis=1)]\n",
    "\n"
   ]
  },
  {
   "cell_type": "code",
   "execution_count": null,
   "metadata": {},
   "outputs": [],
   "source": [
    "#2.Univariate and Multivariate Analysis\n",
    "#Generate histograms and boxplots for numerical variables.\n",
    "numerical_cols.hist(bins=15, figsize=(15, 6), layout=(2, 3))\n",
    "plt.suptitle('Histograms of Numerical Variables')\n",
    "plt.show()\n",
    "\n",
    "\n",
    "\n"
   ]
  },
  {
   "cell_type": "code",
   "execution_count": null,
   "metadata": {},
   "outputs": [],
   "source": [
    "# Generate boxplots for numerical variables\n",
    "numerical_cols.plot(kind='box', subplots=True, layout=(2, 3), figsize=(15, 6))\n",
    "plt.suptitle('Boxplots of Numerical Variables')\n",
    "plt.show()\n",
    "\n",
    "\n",
    "categorical_cols = df.select_dtypes(include=['object'])\n",
    "for col in categorical_cols:\n",
    "    plt.figure(figsize=(10, 4))\n",
    "    sns.countplot(x=col, data=df)\n",
    "    plt.title(f'Distribution of {col}')\n",
    "    plt.show()\n",
    "\n",
    "corr_matrix = numerical_cols.corr()\n",
    "sns.heatmap(corr_matrix, annot=True, cmap='coolwarm', fmt='.2f')\n",
    "plt.title('Correlation Matrix of Numerical Variables')\n",
    "plt.show()"
   ]
  },
  {
   "cell_type": "code",
   "execution_count": null,
   "metadata": {},
   "outputs": [],
   "source": [
    "#Create bar charts to visualize the distribution of categorical variables.\n",
    "for col in categorical_cols.columns:\n",
    "    plt.figure(figsize=(10, 4))\n",
    "    sns.countplot(x=col, data=categorical_cols)\n",
    "    plt.title(f'Distribution of {col}')\n",
    "    plt.show()\n",
    "\n"
   ]
  },
  {
   "cell_type": "code",
   "execution_count": null,
   "metadata": {},
   "outputs": [],
   "source": [
    "#3.Data Visualization\n",
    "#Create line charts to show sales trends over time.\n",
    "df['Date'] = pd.to_datetime(df['Date'])\n",
    "daily_sales_trends = df.groupby('Date').sum()\n",
    "\n",
    "plt.figure(figsize=(14, 7))\n",
    "plt.plot(daily_sales_trends.index, daily_sales_trends['Revenue'], label='Revenue')\n",
    "plt.plot(daily_sales_trends.index, daily_sales_trends['Units Sold'], label='Units Sold')\n",
    "plt.plot(daily_sales_trends.index, daily_sales_trends['Profit Margin (%)'], label='Profit Margin (%)')\n",
    "plt.xlabel('Date')\n",
    "plt.ylabel('Values')\n",
    "plt.title('Sales Trends Over Time')\n",
    "plt.legend()\n",
    "plt.show()\n",
    "\n",
    "#Use scatter plots to analyze revenue vs. profit margin\n",
    "plt.figure(figsize=(10, 6))\n",
    "plt.scatter(df['Revenue'], df['Profit Margin (%)'], alpha=0.6)\n",
    "plt.xlabel('Revenue')\n",
    "plt.ylabel('Profit Margin (%)')\n",
    "plt.title('Revenue vs. Profit Margin (%)')\n",
    "plt.show()\n"
   ]
  },
  {
   "cell_type": "code",
   "execution_count": null,
   "metadata": {},
   "outputs": [],
   "source": [
    "#Generate heatmaps to identify high-performing regions.\n",
    "region_performance = df.groupby('Region').sum(numeric_only=True)\n",
    "\n",
    "plt.figure(figsize=(12, 6))\n",
    "sns.heatmap(region_performance[['Units Sold', 'Revenue', 'Profit Margin (%)']], annot=True, cmap='YlGnBu', fmt='.2f')\n",
    "plt.title('Heatmap of Region Performance')\n",
    "plt.show()\n",
    "\n",
    "\n"
   ]
  },
  {
   "cell_type": "code",
   "execution_count": null,
   "metadata": {},
   "outputs": [],
   "source": [
    "#Build bar plots showing product category performance across different regions.\n",
    "product_category_performance = df.groupby(['Region', 'Product Category']).sum(numeric_only=True).reset_index()\n",
    "\n",
    "plt.figure(figsize=(14, 7))\n",
    "sns.barplot(x='Region', y='Revenue', hue='Product Category', data=product_category_performance)\n",
    "plt.title('Product Category Performance Across Different Regions')\n",
    "plt.xlabel('Region')\n",
    "plt.ylabel('Revenue')\n",
    "plt.legend(title='Product Category')\n",
    "plt.show()"
   ]
  },
  {
   "cell_type": "code",
   "execution_count": null,
   "metadata": {},
   "outputs": [],
   "source": [
    "#4.Insights & Business Recommendations\n",
    "\n",
    "#Identify the best-performing region based on revenue and profit.\n",
    "best_region_revenue = region_performance['Revenue'].idxmax()\n",
    "best_region_profit = region_performance['Profit Margin (%)'].idxmax()\n",
    "\n",
    "print(f\"The best-performing region based on revenue is: {best_region_revenue}\")\n",
    "print(f\"The best-performing region based on profit margin is: {best_region_profit}\")\n",
    "\n"
   ]
  },
  {
   "cell_type": "code",
   "execution_count": null,
   "metadata": {},
   "outputs": [],
   "source": [
    "#Find which product category generates the highest revenue\n",
    "highest_revenue_category = product_category_performance.loc[product_category_performance['Revenue'].idxmax(), 'Product Category']\n",
    "print(f\"The product category that generates the highest revenue is: {highest_revenue_category}\")\n"
   ]
  },
  {
   "cell_type": "code",
   "execution_count": null,
   "metadata": {},
   "outputs": [],
   "source": [
    "# Define strategies for underperforming regions\n",
    "underperforming_strategies = {\n",
    "    'East': [\n",
    "        'Increase Profit Margins through Cost Efficiency.',\n",
    "        'Re-evaluate Pricing Strategy.',\n",
    "        'Expand product range to meet diverse customer needs.',\n",
    "        'Expand Retail Presence & Local Partnerships.',\n",
    "    ],\n",
    "    'West': [\n",
    "        'Targeted Marketing Campaigns.',\n",
    "        'Loyalty & Retention Programs.',\n",
    "        'Optimize Product Offerings Based on Demand.',\n",
    "        'Improve Market Penetration & Customer Engagement.',\n",
    "        'Strengthen Sales & Distribution Channels.',\n",
    "        'Expand Retail Presence & Local Partnerships.'\n",
    "        \n",
    "    ]\n",
    "}\n",
    "\n",
    "print(\"Strategies for underperforming regions:\")\n",
    "for region, strategies in underperforming_strategies.items():\n",
    "    print(f\"\\nRegion: {region}\")\n",
    "    for strategy in strategies:\n",
    "        print(f\"- {strategy}\")\n"
   ]
  }
 ],
 "metadata": {
  "kernelspec": {
   "display_name": "Python 3",
   "language": "python",
   "name": "python3"
  },
  "language_info": {
   "codemirror_mode": {
    "name": "ipython",
    "version": 3
   },
   "file_extension": ".py",
   "mimetype": "text/x-python",
   "name": "python",
   "nbconvert_exporter": "python",
   "pygments_lexer": "ipython3",
   "version": "3.13.2"
  }
 },
 "nbformat": 4,
 "nbformat_minor": 2
}
